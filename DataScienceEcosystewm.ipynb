{
 "cells": [
  {
   "cell_type": "markdown",
   "id": "8bbfc29f-5626-421c-b2f8-a406657c3400",
   "metadata": {},
   "source": [
    "# Data Science Tools and Ecosystem"
   ]
  },
  {
   "cell_type": "markdown",
   "id": "ad7ec295-64f3-4de4-85c1-50f69963f18b",
   "metadata": {},
   "source": [
    "#### In this notebook, Data Science Tools and Ecosystem are summarized below"
   ]
  },
  {
   "cell_type": "code",
   "execution_count": null,
   "id": "014e2600-0a7c-4b9b-8107-0907a846feab",
   "metadata": {},
   "outputs": [],
   "source": [
    "# Some of the popular languages that Data Scientists use are:\n",
    "1. Python\n",
    "2. R\n",
    "3. SQL"
   ]
  },
  {
   "cell_type": "code",
   "execution_count": null,
   "id": "1982fc84-c58d-43c5-98dc-7e7ea771faec",
   "metadata": {},
   "outputs": [],
   "source": [
    "# Some of the commonly used libraries used by Data Scientists includes:\n",
    "1. Numpy\n",
    "2. Pandas\n",
    "3. PyTorch \n",
    "4. Scipy\n",
    "5. Tensorflow \n",
    "6. Matplotlib"
   ]
  },
  {
   "cell_type": "markdown",
   "id": "367ba226-68d3-4cb2-839f-3ff408cbab92",
   "metadata": {},
   "source": [
    "|Data Science Tools|\n",
    "--------------------\n",
    "|Rstudio\n",
    "|TensorFlow \n",
    "|Apache Hadoop \n"
   ]
  },
  {
   "cell_type": "code",
   "execution_count": null,
   "id": "0a7dd27b-1b7e-4b70-b811-d534396245b6",
   "metadata": {},
   "outputs": [],
   "source": [
    "# Below are a few examples of evaluating arithmetic expression in python \n",
    "x=3\n",
    "Y=4\n",
    "\n",
    "Print (x)"
   ]
  },
  {
   "cell_type": "markdown",
   "id": "eb685a43-c2d5-4db2-a63f-157d6d4285d4",
   "metadata": {},
   "source": [
    "# This a simple arithmetic expression to multiply then add the integers\n",
    "\n",
    "(3*4)+5"
   ]
  },
  {
   "cell_type": "code",
   "execution_count": null,
   "id": "f4d3e65e-e93f-40cb-ab86-15a4829d5641",
   "metadata": {},
   "outputs": [],
   "source": [
    "#This will convert 200 minute to hours by diving by 60\n",
    "(200/60)"
   ]
  },
  {
   "cell_type": "code",
   "execution_count": null,
   "id": "bf68b584-f499-4371-8f23-b94dba2e3c68",
   "metadata": {},
   "outputs": [],
   "source": [
    "# Objectives:\n",
    "+ List popular languages for Data Science\n",
    "+ Commonly used libraries used by Data Scientists\n",
    "+ Data Science Tools\n"
   ]
  },
  {
   "cell_type": "markdown",
   "id": "92700819-af11-4bc9-8359-c6ac2a844e54",
   "metadata": {},
   "source": [
    "## Author:\n",
    "Oluwasola Adebayo"
   ]
  }
 ],
 "metadata": {
  "kernelspec": {
   "display_name": "Python",
   "language": "python",
   "name": "conda-env-python-py"
  },
  "language_info": {
   "codemirror_mode": {
    "name": "ipython",
    "version": 3
   },
   "file_extension": ".py",
   "mimetype": "text/x-python",
   "name": "python",
   "nbconvert_exporter": "python",
   "pygments_lexer": "ipython3",
   "version": "3.7.12"
  }
 },
 "nbformat": 4,
 "nbformat_minor": 5
}
