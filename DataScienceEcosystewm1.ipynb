{
 "cells": [
  {
   "cell_type": "markdown",
   "id": "bde413e6-a9b2-4e36-9f6b-95611beba441",
   "metadata": {},
   "source": [
    "# Data Science Tools and Ecosystem"
   ]
  },
  {
   "cell_type": "markdown",
   "id": "88821fca-d1cd-4d90-b021-4d05521ade36",
   "metadata": {},
   "source": [
    "### In this notebook, Data Science Tools and Ecosystem are summarized below"
   ]
  },
  {
   "cell_type": "markdown",
   "id": "506d82f0-69a3-49ae-a182-ffe511828536",
   "metadata": {},
   "source": [
    "# Some of the popular languages that Data Scientists use are:\n",
    "1. Python\n",
    "2. R\n",
    "3. SQL"
   ]
  },
  {
   "cell_type": "markdown",
   "id": "7abc5bb3-deee-48ce-a18c-0ca65523b9c6",
   "metadata": {},
   "source": [
    "# Some of the commonly used libraries used by Data Scientists includes:\n",
    "1. Numpy\n",
    "2. Pandas\n",
    "3. PyTorch \n",
    "4. Scipy\n",
    "5. Tensorflow \n",
    "6. Matplotlib"
   ]
  },
  {
   "cell_type": "markdown",
   "id": "57a46422-9c72-4b07-b11b-3e42855624e5",
   "metadata": {},
   "source": [
    "|Data Science Tools|\n",
    "----------------------\n",
    "|Rstudio\n",
    "|TensorFlow\n",
    "|Apache Hadoop"
   ]
  },
  {
   "cell_type": "code",
   "execution_count": null,
   "id": "5d98d239-7fd0-4657-a6a8-ba0625175c44",
   "metadata": {},
   "outputs": [],
   "source": [
    "# Below are a few examples of evaluating arithmetic expression in python\n",
    "x=3\n",
    "Y=4\n",
    "\n",
    "Print (x)"
   ]
  },
  {
   "cell_type": "code",
   "execution_count": null,
   "id": "b4d2fada-2e39-4141-8101-6463861842b1",
   "metadata": {},
   "outputs": [],
   "source": [
    "# This a simple arithmetic expression to multiply then add the integers\n",
    "\n",
    "(3*4)+5"
   ]
  },
  {
   "cell_type": "code",
   "execution_count": null,
   "id": "f4d3e65e-e93f-40cb-ab86-15a4829d5641",
   "metadata": {},
   "outputs": [],
   "source": [
    "#This will convert 200 minute to hours by diving by 60\n",
    "(200/60)"
   ]
  },
  {
   "cell_type": "markdown",
   "id": "d7d1e952-98a5-471b-b784-4bc492e6f9ac",
   "metadata": {},
   "source": [
    "# Objectives:\n",
    "+ List popular languages for Data Science\n",
    "+ Commonly used libraries used by Data Scientists\n",
    "+ Data Science Tools\n"
   ]
  },
  {
   "cell_type": "markdown",
   "id": "be27e125-a2e8-4510-9bdb-73435f283c6a",
   "metadata": {},
   "source": [
    "## Author:\n",
    "###### Oluwasola Adebayo\n"
   ]
  }
 ],
 "metadata": {
  "kernelspec": {
   "display_name": "Python",
   "language": "python",
   "name": "conda-env-python-py"
  },
  "language_info": {
   "codemirror_mode": {
    "name": "ipython",
    "version": 3
   },
   "file_extension": ".py",
   "mimetype": "text/x-python",
   "name": "python",
   "nbconvert_exporter": "python",
   "pygments_lexer": "ipython3",
   "version": "3.7.12"
  }
 },
 "nbformat": 4,
 "nbformat_minor": 5
}
